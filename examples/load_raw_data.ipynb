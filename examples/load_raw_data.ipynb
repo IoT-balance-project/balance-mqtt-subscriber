{
 "cells": [
  {
   "metadata": {},
   "cell_type": "markdown",
   "source": [
    "# Load CSV data\n",
    "\n",
    "This is an example notebook that loads all the balance data."
   ],
   "id": "b276260054c80bd2"
  },
  {
   "metadata": {
    "ExecuteTime": {
     "end_time": "2025-01-15T14:02:11.778029Z",
     "start_time": "2025-01-15T14:02:11.772217Z"
    }
   },
   "cell_type": "code",
   "source": [
    "import csv\n",
    "import datetime\n",
    "import logging\n",
    "from pathlib import Path"
   ],
   "id": "initial_id",
   "outputs": [],
   "execution_count": 1
  },
  {
   "metadata": {
    "ExecuteTime": {
     "end_time": "2025-01-15T14:02:11.786640Z",
     "start_time": "2025-01-15T14:02:11.780028Z"
    }
   },
   "cell_type": "code",
   "source": "DATA_DIR = Path(\"X:\\\\global_plant_ecology\\\\data\\\\balance\")",
   "id": "8e6746c8900d4d04",
   "outputs": [],
   "execution_count": 2
  },
  {
   "metadata": {
    "ExecuteTime": {
     "end_time": "2025-01-15T14:02:11.794428Z",
     "start_time": "2025-01-15T14:02:11.787633Z"
    }
   },
   "cell_type": "code",
   "source": "logger = logging.getLogger(__name__)",
   "id": "8b9342e590e7cc54",
   "outputs": [],
   "execution_count": 3
  },
  {
   "metadata": {
    "ExecuteTime": {
     "end_time": "2025-01-15T14:02:11.802356Z",
     "start_time": "2025-01-15T14:02:11.795376Z"
    }
   },
   "cell_type": "code",
   "source": [
    "def iter_rows(data_dir: Path, glob: str = None):\n",
    "    \"\"\"\n",
    "    Get all CSV files in the specified directory and recursive through all nested\n",
    "    folders.\n",
    "    \"\"\"\n",
    "    glob = glob or \"*.csv\"\n",
    "    # Iterate over all CSV files\n",
    "    for path in Path(data_dir).rglob(glob):\n",
    "        logger.info(path)\n",
    "\n",
    "        # Convert the file path to a topic        \n",
    "        topic = path.relative_to(DATA_DIR).as_posix().removesuffix(path.suffix)\n",
    "        \n",
    "        # Load the CSV file\n",
    "        with path.open() as file:\n",
    "            reader = csv.reader(file)\n",
    "            \n",
    "            # Iterate over rows\n",
    "            for line in reader:\n",
    "                timestamp_str, value = line\n",
    "                \n",
    "                yield dict(\n",
    "                    timestamp=datetime.datetime.fromisoformat(timestamp_str),\n",
    "                    topic=topic,\n",
    "                    value=value,\n",
    "                )"
   ],
   "id": "40f2c7d63d303884",
   "outputs": [],
   "execution_count": 4
  },
  {
   "metadata": {
    "ExecuteTime": {
     "end_time": "2025-01-15T14:02:12.644504Z",
     "start_time": "2025-01-15T14:02:11.804357Z"
    }
   },
   "cell_type": "code",
   "source": [
    "for row in iter_rows(DATA_DIR):\n",
    "    print(row)"
   ],
   "id": "d0e6e29ab884110b",
   "outputs": [
    {
     "ename": "PermissionError",
     "evalue": "[WinError 5] Access is denied: 'X:\\\\global_plant_ecology\\\\data\\\\balance'",
     "output_type": "error",
     "traceback": [
      "\u001B[1;31m---------------------------------------------------------------------------\u001B[0m",
      "\u001B[1;31mPermissionError\u001B[0m                           Traceback (most recent call last)",
      "Cell \u001B[1;32mIn[5], line 1\u001B[0m\n\u001B[1;32m----> 1\u001B[0m \u001B[38;5;28;43;01mfor\u001B[39;49;00m\u001B[43m \u001B[49m\u001B[43mrow\u001B[49m\u001B[43m \u001B[49m\u001B[38;5;129;43;01min\u001B[39;49;00m\u001B[43m \u001B[49m\u001B[43miter_rows\u001B[49m\u001B[43m(\u001B[49m\u001B[43mDATA_DIR\u001B[49m\u001B[43m)\u001B[49m\u001B[43m:\u001B[49m\n\u001B[0;32m      2\u001B[0m \u001B[43m    \u001B[49m\u001B[38;5;28;43mprint\u001B[39;49m\u001B[43m(\u001B[49m\u001B[43mrow\u001B[49m\u001B[43m)\u001B[49m\n",
      "Cell \u001B[1;32mIn[4], line 8\u001B[0m, in \u001B[0;36miter_rows\u001B[1;34m(data_dir, glob)\u001B[0m\n\u001B[0;32m      6\u001B[0m glob \u001B[38;5;241m=\u001B[39m glob \u001B[38;5;129;01mor\u001B[39;00m \u001B[38;5;124m\"\u001B[39m\u001B[38;5;124m*.csv\u001B[39m\u001B[38;5;124m\"\u001B[39m\n\u001B[0;32m      7\u001B[0m \u001B[38;5;66;03m# Iterate over all CSV files\u001B[39;00m\n\u001B[1;32m----> 8\u001B[0m \u001B[43m\u001B[49m\u001B[38;5;28;43;01mfor\u001B[39;49;00m\u001B[43m \u001B[49m\u001B[43mpath\u001B[49m\u001B[43m \u001B[49m\u001B[38;5;129;43;01min\u001B[39;49;00m\u001B[43m \u001B[49m\u001B[43mPath\u001B[49m\u001B[43m(\u001B[49m\u001B[43mdata_dir\u001B[49m\u001B[43m)\u001B[49m\u001B[38;5;241;43m.\u001B[39;49m\u001B[43mrglob\u001B[49m\u001B[43m(\u001B[49m\u001B[43mglob\u001B[49m\u001B[43m)\u001B[49m\u001B[43m:\u001B[49m\n\u001B[0;32m      9\u001B[0m \u001B[43m    \u001B[49m\u001B[43mlogger\u001B[49m\u001B[38;5;241;43m.\u001B[39;49m\u001B[43minfo\u001B[49m\u001B[43m(\u001B[49m\u001B[43mpath\u001B[49m\u001B[43m)\u001B[49m\n\u001B[0;32m     11\u001B[0m \u001B[43m    \u001B[49m\u001B[38;5;66;43;03m# Convert the file path to a topic        \u001B[39;49;00m\n",
      "File \u001B[1;32m~\\AppData\\Local\\Programs\\Python\\Python312\\Lib\\pathlib.py:1109\u001B[0m, in \u001B[0;36mPath.rglob\u001B[1;34m(self, pattern, case_sensitive)\u001B[0m\n\u001B[0;32m   1107\u001B[0m     pattern_parts\u001B[38;5;241m.\u001B[39mappend(\u001B[38;5;124m'\u001B[39m\u001B[38;5;124m'\u001B[39m)\n\u001B[0;32m   1108\u001B[0m selector \u001B[38;5;241m=\u001B[39m _make_selector((\u001B[38;5;124m\"\u001B[39m\u001B[38;5;124m**\u001B[39m\u001B[38;5;124m\"\u001B[39m,) \u001B[38;5;241m+\u001B[39m \u001B[38;5;28mtuple\u001B[39m(pattern_parts), \u001B[38;5;28mself\u001B[39m\u001B[38;5;241m.\u001B[39m_flavour, case_sensitive)\n\u001B[1;32m-> 1109\u001B[0m \u001B[38;5;28;01mfor\u001B[39;00m p \u001B[38;5;129;01min\u001B[39;00m \u001B[43mselector\u001B[49m\u001B[38;5;241;43m.\u001B[39;49m\u001B[43mselect_from\u001B[49m\u001B[43m(\u001B[49m\u001B[38;5;28;43mself\u001B[39;49m\u001B[43m)\u001B[49m:\n\u001B[0;32m   1110\u001B[0m     \u001B[38;5;28;01myield\u001B[39;00m p\n",
      "File \u001B[1;32m~\\AppData\\Local\\Programs\\Python\\Python312\\Lib\\pathlib.py:169\u001B[0m, in \u001B[0;36m_Selector.select_from\u001B[1;34m(self, parent_path)\u001B[0m\n\u001B[0;32m    167\u001B[0m path_cls \u001B[38;5;241m=\u001B[39m \u001B[38;5;28mtype\u001B[39m(parent_path)\n\u001B[0;32m    168\u001B[0m scandir \u001B[38;5;241m=\u001B[39m path_cls\u001B[38;5;241m.\u001B[39m_scandir\n\u001B[1;32m--> 169\u001B[0m \u001B[38;5;28;01mif\u001B[39;00m \u001B[38;5;129;01mnot\u001B[39;00m \u001B[43mparent_path\u001B[49m\u001B[38;5;241;43m.\u001B[39;49m\u001B[43mis_dir\u001B[49m\u001B[43m(\u001B[49m\u001B[43m)\u001B[49m:\n\u001B[0;32m    170\u001B[0m     \u001B[38;5;28;01mreturn\u001B[39;00m \u001B[38;5;28miter\u001B[39m([])\n\u001B[0;32m    171\u001B[0m \u001B[38;5;28;01mreturn\u001B[39;00m \u001B[38;5;28mself\u001B[39m\u001B[38;5;241m.\u001B[39m_select_from(parent_path, scandir)\n",
      "File \u001B[1;32m~\\AppData\\Local\\Programs\\Python\\Python312\\Lib\\pathlib.py:875\u001B[0m, in \u001B[0;36mPath.is_dir\u001B[1;34m(self)\u001B[0m\n\u001B[0;32m    871\u001B[0m \u001B[38;5;250m\u001B[39m\u001B[38;5;124;03m\"\"\"\u001B[39;00m\n\u001B[0;32m    872\u001B[0m \u001B[38;5;124;03mWhether this path is a directory.\u001B[39;00m\n\u001B[0;32m    873\u001B[0m \u001B[38;5;124;03m\"\"\"\u001B[39;00m\n\u001B[0;32m    874\u001B[0m \u001B[38;5;28;01mtry\u001B[39;00m:\n\u001B[1;32m--> 875\u001B[0m     \u001B[38;5;28;01mreturn\u001B[39;00m S_ISDIR(\u001B[38;5;28;43mself\u001B[39;49m\u001B[38;5;241;43m.\u001B[39;49m\u001B[43mstat\u001B[49m\u001B[43m(\u001B[49m\u001B[43m)\u001B[49m\u001B[38;5;241m.\u001B[39mst_mode)\n\u001B[0;32m    876\u001B[0m \u001B[38;5;28;01mexcept\u001B[39;00m \u001B[38;5;167;01mOSError\u001B[39;00m \u001B[38;5;28;01mas\u001B[39;00m e:\n\u001B[0;32m    877\u001B[0m     \u001B[38;5;28;01mif\u001B[39;00m \u001B[38;5;129;01mnot\u001B[39;00m _ignore_error(e):\n",
      "File \u001B[1;32m~\\AppData\\Local\\Programs\\Python\\Python312\\Lib\\pathlib.py:840\u001B[0m, in \u001B[0;36mPath.stat\u001B[1;34m(self, follow_symlinks)\u001B[0m\n\u001B[0;32m    835\u001B[0m \u001B[38;5;28;01mdef\u001B[39;00m\u001B[38;5;250m \u001B[39m\u001B[38;5;21mstat\u001B[39m(\u001B[38;5;28mself\u001B[39m, \u001B[38;5;241m*\u001B[39m, follow_symlinks\u001B[38;5;241m=\u001B[39m\u001B[38;5;28;01mTrue\u001B[39;00m):\n\u001B[0;32m    836\u001B[0m \u001B[38;5;250m    \u001B[39m\u001B[38;5;124;03m\"\"\"\u001B[39;00m\n\u001B[0;32m    837\u001B[0m \u001B[38;5;124;03m    Return the result of the stat() system call on this path, like\u001B[39;00m\n\u001B[0;32m    838\u001B[0m \u001B[38;5;124;03m    os.stat() does.\u001B[39;00m\n\u001B[0;32m    839\u001B[0m \u001B[38;5;124;03m    \"\"\"\u001B[39;00m\n\u001B[1;32m--> 840\u001B[0m     \u001B[38;5;28;01mreturn\u001B[39;00m \u001B[43mos\u001B[49m\u001B[38;5;241;43m.\u001B[39;49m\u001B[43mstat\u001B[49m\u001B[43m(\u001B[49m\u001B[38;5;28;43mself\u001B[39;49m\u001B[43m,\u001B[49m\u001B[43m \u001B[49m\u001B[43mfollow_symlinks\u001B[49m\u001B[38;5;241;43m=\u001B[39;49m\u001B[43mfollow_symlinks\u001B[49m\u001B[43m)\u001B[49m\n",
      "\u001B[1;31mPermissionError\u001B[0m: [WinError 5] Access is denied: 'X:\\\\global_plant_ecology\\\\data\\\\balance'"
     ]
    }
   ],
   "execution_count": 5
  },
  {
   "metadata": {},
   "cell_type": "markdown",
   "source": [
    "# Pandas\n",
    "\n",
    "These rows of data maybe loaded into a Pandas data frame."
   ],
   "id": "f5672b641c99846a"
  },
  {
   "metadata": {
    "ExecuteTime": {
     "end_time": "2025-01-15T14:02:12.647504Z",
     "start_time": "2025-01-15T14:02:12.646503Z"
    }
   },
   "cell_type": "code",
   "source": [
    "import pandas as pd\n",
    "\n",
    "df = pd.DataFrame.from_dict(iter_rows(DATA_DIR))"
   ],
   "id": "5cbe080a3ce974ee",
   "outputs": [],
   "execution_count": null
  },
  {
   "metadata": {},
   "cell_type": "code",
   "source": "df",
   "id": "7a7a6b1f388dc31d",
   "outputs": [],
   "execution_count": null
  }
 ],
 "metadata": {
  "kernelspec": {
   "display_name": "Python 3",
   "language": "python",
   "name": "python3"
  },
  "language_info": {
   "codemirror_mode": {
    "name": "ipython",
    "version": 2
   },
   "file_extension": ".py",
   "mimetype": "text/x-python",
   "name": "python",
   "nbconvert_exporter": "python",
   "pygments_lexer": "ipython2",
   "version": "2.7.6"
  }
 },
 "nbformat": 4,
 "nbformat_minor": 5
}
